{
 "cells": [
  {
   "cell_type": "markdown",
   "id": "a516a73b",
   "metadata": {},
   "source": [
    "#Step 1: Choose Your 10 Categories"
   ]
  },
  {
   "cell_type": "code",
   "execution_count": 1,
   "id": "c9919e85",
   "metadata": {},
   "outputs": [],
   "source": [
    "selected_classes = [\n",
    "    \"pizza\", \"sushi\", \"ice_cream\", \"hamburger\",\n",
    "    \"fried_rice\", \"ramen\", \"steak\", \"donuts\",\n",
    "    \"pancakes\", \"spaghetti_bolognese\"\n",
    "]\n"
   ]
  },
  {
   "cell_type": "markdown",
   "id": "1caa9628",
   "metadata": {},
   "source": [
    "#Step 2: Create a New Dataset (Train/Test)"
   ]
  },
  {
   "cell_type": "code",
   "execution_count": 3,
   "id": "8d91a6e4",
   "metadata": {},
   "outputs": [],
   "source": [
    "import os, shutil\n",
    "\n",
    "base_dir = \"food-101\"\n",
    "image_dir = os.path.join(base_dir, \"images\")\n",
    "meta_dir = os.path.join(base_dir, \"meta\")\n",
    "\n",
    "train_txt = os.path.join(meta_dir, \"train.txt\")\n",
    "test_txt = os.path.join(meta_dir, \"test.txt\")\n",
    "\n",
    "new_train_dir = \"food10-train\"\n",
    "new_test_dir = \"food10-test\"\n",
    "\n",
    "os.makedirs(new_train_dir, exist_ok=True)\n",
    "os.makedirs(new_test_dir, exist_ok=True)\n",
    "\n",
    "def filter_split(txt_file, dest_dir, classes):\n",
    "    with open(txt_file, 'r') as f:\n",
    "        for line in f:\n",
    "            path = line.strip() + \".jpg\"\n",
    "            class_name = path.split(\"/\")[0]\n",
    "            if class_name in classes:\n",
    "                os.makedirs(os.path.join(dest_dir, class_name), exist_ok=True)\n",
    "                shutil.copy(\n",
    "                    os.path.join(image_dir, path),\n",
    "                    os.path.join(dest_dir, path)\n",
    "                )\n",
    "\n",
    "filter_split(train_txt, new_train_dir, selected_classes)\n",
    "filter_split(test_txt, new_test_dir, selected_classes)\n"
   ]
  },
  {
   "cell_type": "markdown",
   "id": "22f8ab71",
   "metadata": {},
   "source": [
    "#Step 3: Load Your New Dataset"
   ]
  },
  {
   "cell_type": "code",
   "execution_count": 4,
   "id": "affa55cb",
   "metadata": {},
   "outputs": [
    {
     "name": "stdout",
     "output_type": "stream",
     "text": [
      "Found 6000 images belonging to 10 classes.\n",
      "Found 1500 images belonging to 10 classes.\n",
      "Found 2500 images belonging to 10 classes.\n"
     ]
    }
   ],
   "source": [
    "from tensorflow.keras.preprocessing.image import ImageDataGenerator\n",
    "\n",
    "IMG_SIZE = (224, 224)\n",
    "BATCH_SIZE = 32\n",
    "\n",
    "train_datagen = ImageDataGenerator(\n",
    "    rescale=1./255,\n",
    "    validation_split=0.2,\n",
    "    horizontal_flip=True,\n",
    "    zoom_range=0.2,\n",
    "    rotation_range=15\n",
    ")\n",
    "\n",
    "train_generator = train_datagen.flow_from_directory(\n",
    "    new_train_dir,\n",
    "    target_size=IMG_SIZE,\n",
    "    batch_size=BATCH_SIZE,\n",
    "    class_mode='categorical',\n",
    "    subset='training'\n",
    ")\n",
    "\n",
    "val_generator = train_datagen.flow_from_directory(\n",
    "    new_train_dir,\n",
    "    target_size=IMG_SIZE,\n",
    "    batch_size=BATCH_SIZE,\n",
    "    class_mode='categorical',\n",
    "    subset='validation'\n",
    ")\n",
    "\n",
    "test_generator = ImageDataGenerator(rescale=1./255).flow_from_directory(\n",
    "    new_test_dir,\n",
    "    target_size=IMG_SIZE,\n",
    "    batch_size=BATCH_SIZE,\n",
    "    class_mode='categorical'\n",
    ")\n"
   ]
  },
  {
   "cell_type": "markdown",
   "id": "3e67ef92",
   "metadata": {},
   "source": [
    "#Step 4: Train a Model (Fast MobileNetV2 Example)"
   ]
  },
  {
   "cell_type": "code",
   "execution_count": 5,
   "id": "c0f71eae",
   "metadata": {},
   "outputs": [
    {
     "name": "stderr",
     "output_type": "stream",
     "text": [
      "c:\\Users\\Admin\\AppData\\Local\\Programs\\Python\\Python312\\Lib\\site-packages\\keras\\src\\trainers\\data_adapters\\py_dataset_adapter.py:121: UserWarning: Your `PyDataset` class should call `super().__init__(**kwargs)` in its constructor. `**kwargs` can include `workers`, `use_multiprocessing`, `max_queue_size`. Do not pass these arguments to `fit()`, as they will be ignored.\n",
      "  self._warn_if_super_not_called()\n"
     ]
    },
    {
     "name": "stdout",
     "output_type": "stream",
     "text": [
      "Epoch 1/10\n",
      "\u001b[1m188/188\u001b[0m \u001b[32m━━━━━━━━━━━━━━━━━━━━\u001b[0m\u001b[37m\u001b[0m \u001b[1m204s\u001b[0m 1s/step - accuracy: 0.3347 - loss: 2.0048 - val_accuracy: 0.7647 - val_loss: 0.8836\n",
      "Epoch 2/10\n",
      "\u001b[1m188/188\u001b[0m \u001b[32m━━━━━━━━━━━━━━━━━━━━\u001b[0m\u001b[37m\u001b[0m \u001b[1m93s\u001b[0m 497ms/step - accuracy: 0.6999 - loss: 0.9669 - val_accuracy: 0.7887 - val_loss: 0.7150\n",
      "Epoch 3/10\n",
      "\u001b[1m188/188\u001b[0m \u001b[32m━━━━━━━━━━━━━━━━━━━━\u001b[0m\u001b[37m\u001b[0m \u001b[1m93s\u001b[0m 494ms/step - accuracy: 0.7429 - loss: 0.7989 - val_accuracy: 0.7993 - val_loss: 0.6353\n",
      "Epoch 4/10\n",
      "\u001b[1m188/188\u001b[0m \u001b[32m━━━━━━━━━━━━━━━━━━━━\u001b[0m\u001b[37m\u001b[0m \u001b[1m92s\u001b[0m 492ms/step - accuracy: 0.7852 - loss: 0.6856 - val_accuracy: 0.8173 - val_loss: 0.5953\n",
      "Epoch 5/10\n",
      "\u001b[1m188/188\u001b[0m \u001b[32m━━━━━━━━━━━━━━━━━━━━\u001b[0m\u001b[37m\u001b[0m \u001b[1m93s\u001b[0m 494ms/step - accuracy: 0.8025 - loss: 0.6475 - val_accuracy: 0.8120 - val_loss: 0.5850\n",
      "Epoch 6/10\n",
      "\u001b[1m188/188\u001b[0m \u001b[32m━━━━━━━━━━━━━━━━━━━━\u001b[0m\u001b[37m\u001b[0m \u001b[1m94s\u001b[0m 503ms/step - accuracy: 0.8119 - loss: 0.5993 - val_accuracy: 0.8280 - val_loss: 0.5439\n",
      "Epoch 7/10\n",
      "\u001b[1m188/188\u001b[0m \u001b[32m━━━━━━━━━━━━━━━━━━━━\u001b[0m\u001b[37m\u001b[0m \u001b[1m94s\u001b[0m 498ms/step - accuracy: 0.8159 - loss: 0.5952 - val_accuracy: 0.8220 - val_loss: 0.5689\n",
      "Epoch 8/10\n",
      "\u001b[1m188/188\u001b[0m \u001b[32m━━━━━━━━━━━━━━━━━━━━\u001b[0m\u001b[37m\u001b[0m \u001b[1m95s\u001b[0m 506ms/step - accuracy: 0.8284 - loss: 0.5413 - val_accuracy: 0.8260 - val_loss: 0.5506\n",
      "Epoch 9/10\n",
      "\u001b[1m188/188\u001b[0m \u001b[32m━━━━━━━━━━━━━━━━━━━━\u001b[0m\u001b[37m\u001b[0m \u001b[1m93s\u001b[0m 495ms/step - accuracy: 0.8384 - loss: 0.5156 - val_accuracy: 0.8347 - val_loss: 0.5374\n",
      "Epoch 10/10\n",
      "\u001b[1m188/188\u001b[0m \u001b[32m━━━━━━━━━━━━━━━━━━━━\u001b[0m\u001b[37m\u001b[0m \u001b[1m95s\u001b[0m 503ms/step - accuracy: 0.8449 - loss: 0.4862 - val_accuracy: 0.8287 - val_loss: 0.5502\n"
     ]
    }
   ],
   "source": [
    "from tensorflow.keras.applications import MobileNetV2\n",
    "from tensorflow.keras.layers import GlobalAveragePooling2D, Dense, Dropout\n",
    "from tensorflow.keras.models import Model\n",
    "from tensorflow.keras.optimizers import Adam\n",
    "\n",
    "base_model = MobileNetV2(weights='imagenet', include_top=False, input_shape=(224, 224, 3))\n",
    "base_model.trainable = False\n",
    "\n",
    "x = GlobalAveragePooling2D()(base_model.output)\n",
    "x = Dense(256, activation='relu')(x)\n",
    "x = Dropout(0.4)(x)\n",
    "output = Dense(train_generator.num_classes, activation='softmax')(x)\n",
    "\n",
    "model = Model(inputs=base_model.input, outputs=output)\n",
    "model.compile(optimizer=Adam(learning_rate=1e-4),\n",
    "              loss='categorical_crossentropy',\n",
    "              metrics=['accuracy'])\n",
    "\n",
    "history = model.fit(\n",
    "    train_generator,\n",
    "    validation_data=val_generator,\n",
    "    epochs=10\n",
    ")\n"
   ]
  },
  {
   "cell_type": "markdown",
   "id": "983033dc",
   "metadata": {},
   "source": [
    "#Step 5: Evaluate & Save"
   ]
  },
  {
   "cell_type": "code",
   "execution_count": 6,
   "id": "159c1b1c",
   "metadata": {},
   "outputs": [
    {
     "name": "stdout",
     "output_type": "stream",
     "text": [
      "\u001b[1m79/79\u001b[0m \u001b[32m━━━━━━━━━━━━━━━━━━━━\u001b[0m\u001b[37m\u001b[0m \u001b[1m54s\u001b[0m 679ms/step - accuracy: 0.8756 - loss: 0.3588\n"
     ]
    },
    {
     "name": "stderr",
     "output_type": "stream",
     "text": [
      "WARNING:absl:You are saving your model as an HDF5 file via `model.save()` or `keras.saving.save_model(model)`. This file format is considered legacy. We recommend using instead the native Keras format, e.g. `model.save('my_model.keras')` or `keras.saving.save_model(model, 'my_model.keras')`. \n"
     ]
    }
   ],
   "source": [
    "model.evaluate(test_generator)\n",
    "model.save(\"food10_mobilenetv2.h5\")"
   ]
  },
  {
   "cell_type": "markdown",
   "id": "c748af22",
   "metadata": {},
   "source": [
    "# 6 Load Your Trained Model"
   ]
  },
  {
   "cell_type": "code",
   "execution_count": 7,
   "id": "b62060eb",
   "metadata": {},
   "outputs": [
    {
     "name": "stderr",
     "output_type": "stream",
     "text": [
      "WARNING:absl:Compiled the loaded model, but the compiled metrics have yet to be built. `model.compile_metrics` will be empty until you train or evaluate the model.\n"
     ]
    }
   ],
   "source": [
    "from tensorflow.keras.models import load_model\n",
    "from tensorflow.keras.preprocessing import image\n",
    "import numpy as np\n",
    "import matplotlib.pyplot as plt\n",
    "import os\n",
    "\n",
    "# Load model\n",
    "model = load_model(\"food10_mobilenetv2.h5\")  # Change name if needed\n",
    "\n",
    "# Class names (must match your training order)\n",
    "class_labels = [\n",
    "    \"pizza\", \"sushi\", \"ice_cream\", \"hamburger\",\n",
    "    \"fried_rice\", \"ramen\", \"steak\", \"donuts\",\n",
    "    \"pancakes\", \"spaghetti_bolognese\"\n",
    "]\n"
   ]
  },
  {
   "cell_type": "markdown",
   "id": "a4a39bed",
   "metadata": {},
   "source": [
    "# 7 Select an Image to Test"
   ]
  },
  {
   "cell_type": "code",
   "execution_count": 11,
   "id": "7c9aa621",
   "metadata": {},
   "outputs": [],
   "source": [
    "# Provide the path to your image\n",
    "img_path = \"Screenshot 2025-08-26 005935.png\"  # Replace with your image path\n",
    "\n",
    "# Load and preprocess\n",
    "IMG_SIZE = (224, 224)\n",
    "img = image.load_img(img_path, target_size=IMG_SIZE)\n",
    "img_array = image.img_to_array(img)\n",
    "img_array = np.expand_dims(img_array, axis=0)\n",
    "img_array = img_array / 255.0  # normalize\n"
   ]
  },
  {
   "cell_type": "markdown",
   "id": "db1d145c",
   "metadata": {},
   "source": [
    "# 8 Make a Prediction"
   ]
  },
  {
   "cell_type": "code",
   "execution_count": 12,
   "id": "6bc47358",
   "metadata": {},
   "outputs": [
    {
     "name": "stdout",
     "output_type": "stream",
     "text": [
      "\u001b[1m1/1\u001b[0m \u001b[32m━━━━━━━━━━━━━━━━━━━━\u001b[0m\u001b[37m\u001b[0m \u001b[1m0s\u001b[0m 60ms/step\n",
      "Predicted class: donuts\n",
      "Confidence: 86.02%\n"
     ]
    }
   ],
   "source": [
    "predictions = model.predict(img_array)\n",
    "predicted_class = np.argmax(predictions, axis=1)[0]\n",
    "confidence = np.max(predictions) * 100\n",
    "\n",
    "print(f\"Predicted class: {class_labels[predicted_class]}\")\n",
    "print(f\"Confidence: {confidence:.2f}%\")\n"
   ]
  }
 ],
 "metadata": {
  "kernelspec": {
   "display_name": "Python 3",
   "language": "python",
   "name": "python3"
  },
  "language_info": {
   "codemirror_mode": {
    "name": "ipython",
    "version": 3
   },
   "file_extension": ".py",
   "mimetype": "text/x-python",
   "name": "python",
   "nbconvert_exporter": "python",
   "pygments_lexer": "ipython3",
   "version": "3.12.4"
  }
 },
 "nbformat": 4,
 "nbformat_minor": 5
}
